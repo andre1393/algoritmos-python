{
 "cells": [
  {
   "cell_type": "code",
   "execution_count": 1,
   "metadata": {},
   "outputs": [],
   "source": [
    "import numpy as np\n",
    "import pandas as pd"
   ]
  },
  {
   "cell_type": "code",
   "execution_count": 70,
   "metadata": {},
   "outputs": [],
   "source": [
    "class Node:\n",
    "    \n",
    "    def __init__(self, link, children, attribute_name):\n",
    "        self.children = {}\n",
    "        self.link = link\n",
    "        if children != None:\n",
    "            self.children[link] = children\n",
    "        self.attribute_name = attribute_name\n",
    "        \n",
    "    def add_node(self, children_name, node):\n",
    "        self.children[children_name] = node"
   ]
  },
  {
   "cell_type": "code",
   "execution_count": 104,
   "metadata": {},
   "outputs": [],
   "source": [
    "def gain(df, classe, link):\n",
    "    arr = df[classe].value_counts().values\n",
    "    p = arr/arr.sum()\n",
    "    s = sum(-1*p*np.log2(p))\n",
    "    \n",
    "    entropy_s = entropyS(df[classe])\n",
    "    sa = []\n",
    "    max_gain = ('', -float(\"inf\"))\n",
    "    for column in df.columns:\n",
    "        if column != classe:\n",
    "            gain_value = entropy_s\n",
    "            for key, value in df[column].value_counts().items():\n",
    "                gain_value -= get_proportion(df[column])[key][0] * entropyS(df[df[column] == key][classe])\n",
    "    \n",
    "            if gain_value > max_gain[1]:\n",
    "                    max_gain = (column, gain_value)\n",
    "    \n",
    "    if df.columns.size <= 1:\n",
    "        counts = df.iloc[:,0].value_counts()\n",
    "        return Node('value', [counts.keys()[0]], df.columns[0])\n",
    "    elif max_gain[1] <= 0:\n",
    "        counts = df.iloc[:,0].value_counts()\n",
    "        return Node('value', [counts.keys()[0]], df.columns[0])\n",
    "    \n",
    "    node = Node(link, None, max_gain[0])\n",
    "    for key, value in df[max_gain[0]].value_counts().items():\n",
    "        children = gain(df[df[max_gain[0]] == key].drop(max_gain[0], axis = 1), classe, key)\n",
    "        node.add_node(key, children)\n",
    "    \n",
    "    return node\n",
    "\n",
    "def get_proportion(column):\n",
    "    counts = column.value_counts()\n",
    "    counts = counts/counts.sum()\n",
    "    return pd.DataFrame(counts).pivot_table(columns = counts.keys()).reset_index(drop = True)\n",
    "    \n",
    "def entropyS(column):\n",
    "    arr = column.value_counts().values\n",
    "    p = arr/arr.sum()\n",
    "    s = sum(-1*p*np.log2(p))\n",
    "    return s\n",
    "\n",
    "def predict(tree, x):\n",
    "    t = tree\n",
    "    while len(t.children) > 1:\n",
    "        t = t.children[x[t.attribute_name]]\n",
    "    \n",
    "    return t.children['value'][0]"
   ]
  },
  {
   "cell_type": "code",
   "execution_count": 82,
   "metadata": {},
   "outputs": [],
   "source": [
    "d = {'Outlook': ['Sunny','Sunny','Overcast','Rain','Rain','Rain','Overcast','Sunny','Sunny','Rain','Sunny','Overcast','Overcast','Rain'], 'Temperature': ['Hot','Hot','Hot','Mild','Cool','Cool','Cool','Mild','Cool','Mild','Mild','Mild','Hot','Mild'], 'Humidity': ['High', 'High', 'High', 'High', 'Normal', 'Normal', 'Normal', 'High', 'Normal', 'Normal', 'Normal', 'High', 'Normal', 'High'], 'Wind': ['Weak', 'Strong', 'Weak', 'Weak', 'Weak', 'Strong', 'Strong', 'Weak', 'Weak', 'Weak', 'Strong', 'Strong', 'Weak', 'Strong'], 'Decision': ['No', 'No', 'Yes', 'Yes', 'Yes', 'No', 'Yes', 'No', 'Yes', 'Yes', 'Yes', 'Yes', 'Yes', 'No']}\n",
    "df = pd.DataFrame(d)"
   ]
  },
  {
   "cell_type": "code",
   "execution_count": 83,
   "metadata": {},
   "outputs": [],
   "source": [
    "tree = gain(df, 'Decision', None)"
   ]
  },
  {
   "cell_type": "code",
   "execution_count": 88,
   "metadata": {},
   "outputs": [
    {
     "data": {
      "text/plain": [
       "1"
      ]
     },
     "execution_count": 88,
     "metadata": {},
     "output_type": "execute_result"
    }
   ],
   "source": [
    "tree.children['Overcast'].children"
   ]
  },
  {
   "cell_type": "code",
   "execution_count": 34,
   "metadata": {},
   "outputs": [
    {
     "data": {
      "text/plain": [
       "14"
      ]
     },
     "execution_count": 34,
     "metadata": {},
     "output_type": "execute_result"
    }
   ],
   "source": [
    "df['Outlook'].value_counts().sum()"
   ]
  },
  {
   "cell_type": "code",
   "execution_count": 46,
   "metadata": {},
   "outputs": [
    {
     "data": {
      "text/plain": [
       "<__main__.Node at 0x14f21692710>"
      ]
     },
     "execution_count": 46,
     "metadata": {},
     "output_type": "execute_result"
    }
   ],
   "source": [
    "tree.children[df.iloc[0,:][tree.attribute_name]]"
   ]
  },
  {
   "cell_type": "code",
   "execution_count": 108,
   "metadata": {},
   "outputs": [
    {
     "data": {
      "text/plain": [
       "'Yes'"
      ]
     },
     "execution_count": 108,
     "metadata": {},
     "output_type": "execute_result"
    }
   ],
   "source": [
    "predict(tree, df.iloc[3,:])"
   ]
  },
  {
   "cell_type": "code",
   "execution_count": 91,
   "metadata": {},
   "outputs": [
    {
     "data": {
      "text/plain": [
       "{'value': ['No']}"
      ]
     },
     "execution_count": 91,
     "metadata": {},
     "output_type": "execute_result"
    }
   ],
   "source": [
    "t.children"
   ]
  },
  {
   "cell_type": "code",
   "execution_count": 113,
   "metadata": {},
   "outputs": [
    {
     "name": "stdout",
     "output_type": "stream",
     "text": [
      "Decision          No\n",
      "Humidity        High\n",
      "Outlook        Sunny\n",
      "Temperature      Hot\n",
      "Wind            Weak\n",
      "Name: 0, dtype: object\n",
      "Decision           No\n",
      "Humidity         High\n",
      "Outlook         Sunny\n",
      "Temperature       Hot\n",
      "Wind           Strong\n",
      "Name: 1, dtype: object\n",
      "Decision            Yes\n",
      "Humidity           High\n",
      "Outlook        Overcast\n",
      "Temperature         Hot\n",
      "Wind               Weak\n",
      "Name: 2, dtype: object\n",
      "Decision        Yes\n",
      "Humidity       High\n",
      "Outlook        Rain\n",
      "Temperature    Mild\n",
      "Wind           Weak\n",
      "Name: 3, dtype: object\n",
      "Decision          Yes\n",
      "Humidity       Normal\n",
      "Outlook          Rain\n",
      "Temperature      Cool\n",
      "Wind             Weak\n",
      "Name: 4, dtype: object\n",
      "Decision           No\n",
      "Humidity       Normal\n",
      "Outlook          Rain\n",
      "Temperature      Cool\n",
      "Wind           Strong\n",
      "Name: 5, dtype: object\n",
      "Decision            Yes\n",
      "Humidity         Normal\n",
      "Outlook        Overcast\n",
      "Temperature        Cool\n",
      "Wind             Strong\n",
      "Name: 6, dtype: object\n",
      "Decision          No\n",
      "Humidity        High\n",
      "Outlook        Sunny\n",
      "Temperature     Mild\n",
      "Wind            Weak\n",
      "Name: 7, dtype: object\n",
      "Decision          Yes\n",
      "Humidity       Normal\n",
      "Outlook         Sunny\n",
      "Temperature      Cool\n",
      "Wind             Weak\n",
      "Name: 8, dtype: object\n",
      "Decision          Yes\n",
      "Humidity       Normal\n",
      "Outlook          Rain\n",
      "Temperature      Mild\n",
      "Wind             Weak\n",
      "Name: 9, dtype: object\n",
      "Decision          Yes\n",
      "Humidity       Normal\n",
      "Outlook         Sunny\n",
      "Temperature      Mild\n",
      "Wind           Strong\n",
      "Name: 10, dtype: object\n",
      "Decision            Yes\n",
      "Humidity           High\n",
      "Outlook        Overcast\n",
      "Temperature        Mild\n",
      "Wind             Strong\n",
      "Name: 11, dtype: object\n",
      "Decision            Yes\n",
      "Humidity         Normal\n",
      "Outlook        Overcast\n",
      "Temperature         Hot\n",
      "Wind               Weak\n",
      "Name: 12, dtype: object\n",
      "Decision           No\n",
      "Humidity         High\n",
      "Outlook          Rain\n",
      "Temperature      Mild\n",
      "Wind           Strong\n",
      "Name: 13, dtype: object\n"
     ]
    }
   ],
   "source": [
    "for i, j in df.iterrows():\n",
    "    print(j)"
   ]
  },
  {
   "cell_type": "code",
   "execution_count": 114,
   "metadata": {},
   "outputs": [
    {
     "ename": "ModuleNotFoundError",
     "evalue": "No module named 'Node'",
     "output_type": "error",
     "traceback": [
      "\u001b[1;31m---------------------------------------------------------------------------\u001b[0m",
      "\u001b[1;31mModuleNotFoundError\u001b[0m                       Traceback (most recent call last)",
      "\u001b[1;32m<ipython-input-114-cbcd8341f079>\u001b[0m in \u001b[0;36m<module>\u001b[1;34m()\u001b[0m\n\u001b[0;32m      1\u001b[0m \u001b[1;32mimport\u001b[0m \u001b[0mnumpy\u001b[0m \u001b[1;32mas\u001b[0m \u001b[0mnp\u001b[0m\u001b[1;33m\u001b[0m\u001b[0m\n\u001b[0;32m      2\u001b[0m \u001b[1;32mimport\u001b[0m \u001b[0mpandas\u001b[0m \u001b[1;32mas\u001b[0m \u001b[0mpd\u001b[0m\u001b[1;33m\u001b[0m\u001b[0m\n\u001b[1;32m----> 3\u001b[1;33m \u001b[1;32mfrom\u001b[0m \u001b[0mNode\u001b[0m \u001b[1;32mimport\u001b[0m \u001b[0mNode\u001b[0m\u001b[1;33m\u001b[0m\u001b[0m\n\u001b[0m\u001b[0;32m      4\u001b[0m \u001b[1;32mfrom\u001b[0m \u001b[0mDecisionTree\u001b[0m \u001b[1;32mimport\u001b[0m \u001b[0mDecisionTree\u001b[0m\u001b[1;33m\u001b[0m\u001b[0m\n\u001b[0;32m      5\u001b[0m \u001b[1;33m\u001b[0m\u001b[0m\n",
      "\u001b[1;31mModuleNotFoundError\u001b[0m: No module named 'Node'"
     ]
    }
   ],
   "source": []
  },
  {
   "cell_type": "code",
   "execution_count": null,
   "metadata": {},
   "outputs": [],
   "source": []
  }
 ],
 "metadata": {
  "kernelspec": {
   "display_name": "Python 3",
   "language": "python",
   "name": "python3"
  },
  "language_info": {
   "codemirror_mode": {
    "name": "ipython",
    "version": 3
   },
   "file_extension": ".py",
   "mimetype": "text/x-python",
   "name": "python",
   "nbconvert_exporter": "python",
   "pygments_lexer": "ipython3",
   "version": "3.6.4"
  }
 },
 "nbformat": 4,
 "nbformat_minor": 2
}
