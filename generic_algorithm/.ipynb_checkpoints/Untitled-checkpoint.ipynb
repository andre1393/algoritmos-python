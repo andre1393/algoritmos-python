{
 "cells": [
  {
   "cell_type": "code",
   "execution_count": 2,
   "metadata": {},
   "outputs": [
    {
     "name": "stdout",
     "output_type": "stream",
     "text": [
      "Using matplotlib backend: Qt5Agg\n",
      "populacao inicial:  [array([1, 5, 3, 1]), array([1, 5, 7, 5]), array([3, 4, 5, 6]), array([1, 4, 7, 4]), array([5, 5, 6, 4]), array([7, 5, 6, 1]), array([3, 5, 7, 5]), array([7, 8, 6, 1]), array([1, 5, 0, 1]), array([6, 2, 2, 0])]\n"
     ]
    },
    {
     "data": {
      "text/plain": [
       "[<matplotlib.lines.Line2D at 0x22d6dad4198>]"
      ]
     },
     "execution_count": 2,
     "metadata": {},
     "output_type": "execute_result"
    }
   ],
   "source": [
    "import numpy as np\n",
    "import pandas as pd\n",
    "from ga import GA\n",
    "import matplotlib.pyplot as plt\n",
    "%matplotlib%\n",
    "\n",
    "def evaluate(population):\n",
    "    ev = []\n",
    "    for i in population:\n",
    "        ev.append(sum(i))\n",
    "    \n",
    "    return ev\n",
    "\n",
    "model = GA(max_gen = 1000, replace = True)\n",
    "model.fit(evaluate, [0, 1, 2, 3, 4, 5, 6, 7, 8, 9])\n",
    "plt.plot(range(0, len(model.bests)), model.bests)"
   ]
  },
  {
   "cell_type": "code",
   "execution_count": null,
   "metadata": {},
   "outputs": [],
   "source": []
  }
 ],
 "metadata": {
  "kernelspec": {
   "display_name": "Python 3",
   "language": "python",
   "name": "python3"
  },
  "language_info": {
   "codemirror_mode": {
    "name": "ipython",
    "version": 3
   },
   "file_extension": ".py",
   "mimetype": "text/x-python",
   "name": "python",
   "nbconvert_exporter": "python",
   "pygments_lexer": "ipython3",
   "version": "3.6.4"
  }
 },
 "nbformat": 4,
 "nbformat_minor": 2
}
