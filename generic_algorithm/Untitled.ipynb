{
 "cells": [
  {
   "cell_type": "code",
   "execution_count": 6,
   "metadata": {},
   "outputs": [
    {
     "name": "stdout",
     "output_type": "stream",
     "text": [
      "populacao inicial:  [array([2, 9, 6, 7]), array([  1,  10, -11,   9]), array([5, 1, 2, 9]), array([10,  1, 13,  9]), array([  9, -11,   9,   4]), array([ 4,  7, 13, 10]), array([ 7,  6,  7, 12]), array([ 8,  6, 10,  1]), array([  2,   9,  10, -11]), array([  2,   6, -11,   6])]\n"
     ]
    },
    {
     "data": {
      "text/plain": [
       "<matplotlib.collections.PathCollection at 0x24c1d3d16a0>"
      ]
     },
     "execution_count": 6,
     "metadata": {},
     "output_type": "execute_result"
    },
    {
     "data": {
      "image/png": "[encoded data removed]",
      "text/plain": [
       "<matplotlib.figure.Figure at 0x24c1b6d6d30>"
      ]
     },
     "metadata": {},
     "output_type": "display_data"
    }
   ],
   "source": [
    "import numpy as np\n",
    "import pandas as pd\n",
    "from ga import GA\n",
    "import matplotlib.pyplot as plt\n",
    "%matplotlib inline\n",
    "\n",
    "def evaluate(population):\n",
    "    ev = []\n",
    "    for i in population:\n",
    "        ev.append(sum(i)* -1)\n",
    "    \n",
    "    return ev\n",
    "\n",
    "model = GA(max_gen = 100, replace = True)\n",
    "model.fit(evaluate, [0, 1, 2, 3, 4, 5, 6, 7, 8, 9, 10 , -11, 12, 13, 14])\n",
    "plt.scatter(range(0, len(model.bests)), model.bests)"
   ]
  },
  {
   "cell_type": "code",
   "execution_count": null,
   "metadata": {},
   "outputs": [],
   "source": []
  }
 ],
 "metadata": {
  "kernelspec": {
   "display_name": "Python 3",
   "language": "python",
   "name": "python3"
  },
  "language_info": {
   "codemirror_mode": {
    "name": "ipython",
    "version": 3
   },
   "file_extension": ".py",
   "mimetype": "text/x-python",
   "name": "python",
   "nbconvert_exporter": "python",
   "pygments_lexer": "ipython3",
   "version": "3.6.4"
  }
 },
 "nbformat": 4,
 "nbformat_minor": 2
}
