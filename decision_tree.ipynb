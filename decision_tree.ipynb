{
 "cells": [
  {
   "cell_type": "code",
   "execution_count": 1,
   "metadata": {},
   "outputs": [],
   "source": [
    "import numpy as np\n",
    "import pandas as pd"
   ]
  },
  {
   "cell_type": "code",
   "execution_count": 306,
   "metadata": {},
   "outputs": [],
   "source": [
    "class Node:\n",
    "    \n",
    "    def __init__(self, link, children, attribute_name):\n",
    "        self.link = link\n",
    "        self.children = children\n",
    "        self.attribute_name = attribute_name\n",
    "        \n",
    "    def add_node(self, node):\n",
    "        self.children.append(node)"
   ]
  },
  {
   "cell_type": "code",
   "execution_count": 311,
   "metadata": {},
   "outputs": [],
   "source": [
    "def gain(df, classe, link):\n",
    "    arr = df[classe].value_counts().values\n",
    "    p = arr/arr.sum()\n",
    "    s = sum(-1*p*np.log2(p))\n",
    "    \n",
    "    entropy_s = entropyS(df[classe])\n",
    "    sa = []\n",
    "    max_gain = ('', -float(\"inf\"))\n",
    "    for column in df.columns:\n",
    "        if column != classe:\n",
    "            gain_value = entropy_s\n",
    "            for key, value in df[column].value_counts().items():\n",
    "                gain_value -= get_proportion(df[column])[key][0] * entropyS(df[df[column] == key][classe])\n",
    "    \n",
    "            if gain_value > max_gain[1]:\n",
    "                    max_gain = (column, gain_value)\n",
    "    \n",
    "    if df.columns.size <= 1:\n",
    "        counts = df.iloc[:,0].value_counts()\n",
    "        return Node(link, [counts.keys()[0]], df.columns[0])\n",
    "    elif max_gain[1] <= 0:\n",
    "        counts = df.iloc[:,0].value_counts()\n",
    "        return Node(link, [counts.keys()[0]], df.columns[0])\n",
    "    \n",
    "    node = Node(link, [], max_gain[0])\n",
    "    for key, value in df[max_gain[0]].value_counts().items():\n",
    "        children = gain(df[df[max_gain[0]] == key].drop(max_gain[0], axis = 1), classe, key)\n",
    "        node.add_node(children)\n",
    "    \n",
    "    return node\n",
    "\n",
    "def get_proportion(column):\n",
    "    counts = column.value_counts()\n",
    "    counts = counts/counts.sum()\n",
    "    return pd.DataFrame(counts).pivot_table(columns = counts.keys()).reset_index(drop = True)\n",
    "    \n",
    "def entropyS(column):\n",
    "    arr = column.value_counts().values\n",
    "    p = arr/arr.sum()\n",
    "    s = sum(-1*p*np.log2(p))\n",
    "    return s\n",
    "\n",
    "def entropySA(column, classe):\n",
    "    arr = column.value_counts().values\n",
    "    p = arr/arr.sum()\n",
    "    s = sum(-1*p*np.log2(p))\n",
    "    return s"
   ]
  },
  {
   "cell_type": "code",
   "execution_count": 312,
   "metadata": {},
   "outputs": [],
   "source": [
    "d = {'Outlook': ['Sunny','Sunny','Overcast','Rain','Rain','Rain','Overcast','Sunny','Sunny','Rain','Sunny','Overcast','Overcast','Rain'], 'Temperature': ['Hot','Hot','Hot','Mild','Cool','Cool','Cool','Mild','Cool','Mild','Mild','Mild','Hot','Mild'], 'Humidity': ['High', 'High', 'High', 'High', 'Normal', 'Normal', 'Normal', 'High', 'Normal', 'Normal', 'Normal', 'High', 'Normal', 'High'], 'Wind': ['Weak', 'Strong', 'Weak', 'Weak', 'Weak', 'Strong', 'Strong', 'Weak', 'Weak', 'Weak', 'Strong', 'Strong', 'Weak', 'Strong'], 'Decision': ['No', 'No', 'Yes', 'Yes', 'Yes', 'No', 'Yes', 'No', 'Yes', 'Yes', 'Yes', 'Yes', 'Yes', 'No']}\n",
    "df = pd.DataFrame(d)"
   ]
  },
  {
   "cell_type": "code",
   "execution_count": 313,
   "metadata": {},
   "outputs": [],
   "source": [
    "tree = gain(df, 'Decision', 'Root')"
   ]
  },
  {
   "cell_type": "code",
   "execution_count": 316,
   "metadata": {},
   "outputs": [
    {
     "data": {
      "text/plain": [
       "'Outlook'"
      ]
     },
     "execution_count": 316,
     "metadata": {},
     "output_type": "execute_result"
    }
   ],
   "source": [
    "tree.attribute_name"
   ]
  },
  {
   "cell_type": "code",
   "execution_count": 248,
   "metadata": {},
   "outputs": [
    {
     "data": {
      "text/plain": [
       "14"
      ]
     },
     "execution_count": 248,
     "metadata": {},
     "output_type": "execute_result"
    }
   ],
   "source": [
    "df['Outlook'].value_counts().sum()"
   ]
  },
  {
   "cell_type": "code",
   "execution_count": null,
   "metadata": {},
   "outputs": [],
   "source": []
  },
  {
   "cell_type": "code",
   "execution_count": null,
   "metadata": {},
   "outputs": [],
   "source": []
  }
 ],
 "metadata": {
  "kernelspec": {
   "display_name": "Python 3",
   "language": "python",
   "name": "python3"
  },
  "language_info": {
   "codemirror_mode": {
    "name": "ipython",
    "version": 3
   },
   "file_extension": ".py",
   "mimetype": "text/x-python",
   "name": "python",
   "nbconvert_exporter": "python",
   "pygments_lexer": "ipython3",
   "version": "3.6.4"
  }
 },
 "nbformat": 4,
 "nbformat_minor": 2
}
